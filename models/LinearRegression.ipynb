{
 "cells": [
  {
   "cell_type": "markdown",
   "metadata": {},
   "source": [
    "### Linear Regression"
   ]
  },
  {
   "cell_type": "markdown",
   "metadata": {},
   "source": [
    "Multiple linear regression of prices of used cars sold in the US. Dataset features include car make, model, year, mileage, color, state, and date. This model attempts to predict the price of used cars using the features provided."
   ]
  },
  {
   "cell_type": "markdown",
   "metadata": {},
   "source": [
    "#### Import Libraries"
   ]
  },
  {
   "cell_type": "code",
   "execution_count": 1,
   "metadata": {},
   "outputs": [],
   "source": [
    "import pandas as pd"
   ]
  },
  {
   "cell_type": "markdown",
   "metadata": {},
   "source": [
    "#### Import Dataset(s)"
   ]
  },
  {
   "cell_type": "code",
   "execution_count": 2,
   "metadata": {},
   "outputs": [],
   "source": [
    "df = pd.read_csv('../data/used_cars.csv')"
   ]
  },
  {
   "cell_type": "markdown",
   "metadata": {},
   "source": [
    "#### Explore Dataset(s)"
   ]
  },
  {
   "cell_type": "code",
   "execution_count": 3,
   "metadata": {},
   "outputs": [
    {
     "data": {
      "text/html": [
       "<div>\n",
       "<style scoped>\n",
       "    .dataframe tbody tr th:only-of-type {\n",
       "        vertical-align: middle;\n",
       "    }\n",
       "\n",
       "    .dataframe tbody tr th {\n",
       "        vertical-align: top;\n",
       "    }\n",
       "\n",
       "    .dataframe thead th {\n",
       "        text-align: right;\n",
       "    }\n",
       "</style>\n",
       "<table border=\"1\" class=\"dataframe\">\n",
       "  <thead>\n",
       "    <tr style=\"text-align: right;\">\n",
       "      <th></th>\n",
       "      <th>make</th>\n",
       "      <th>model</th>\n",
       "      <th>year</th>\n",
       "      <th>mileage</th>\n",
       "      <th>price</th>\n",
       "      <th>color</th>\n",
       "      <th>state</th>\n",
       "      <th>date</th>\n",
       "    </tr>\n",
       "  </thead>\n",
       "  <tbody>\n",
       "    <tr>\n",
       "      <th>0</th>\n",
       "      <td>Toyota</td>\n",
       "      <td>Cruze</td>\n",
       "      <td>2017</td>\n",
       "      <td>19882</td>\n",
       "      <td>34176</td>\n",
       "      <td>red</td>\n",
       "      <td>IL</td>\n",
       "      <td>2023-08-08 23:02:01.648413</td>\n",
       "    </tr>\n",
       "    <tr>\n",
       "      <th>1</th>\n",
       "      <td>Ford</td>\n",
       "      <td>Cruze</td>\n",
       "      <td>2016</td>\n",
       "      <td>95349</td>\n",
       "      <td>26655</td>\n",
       "      <td>red</td>\n",
       "      <td>NY</td>\n",
       "      <td>2023-12-14 23:02:01.648426</td>\n",
       "    </tr>\n",
       "    <tr>\n",
       "      <th>2</th>\n",
       "      <td>Toyota</td>\n",
       "      <td>Accord</td>\n",
       "      <td>2017</td>\n",
       "      <td>23744</td>\n",
       "      <td>10359</td>\n",
       "      <td>silver</td>\n",
       "      <td>IL</td>\n",
       "      <td>2024-01-27 23:02:01.648428</td>\n",
       "    </tr>\n",
       "    <tr>\n",
       "      <th>3</th>\n",
       "      <td>Honda</td>\n",
       "      <td>Fusion</td>\n",
       "      <td>2014</td>\n",
       "      <td>55370</td>\n",
       "      <td>23514</td>\n",
       "      <td>white</td>\n",
       "      <td>CA</td>\n",
       "      <td>2023-11-01 23:02:01.648436</td>\n",
       "    </tr>\n",
       "    <tr>\n",
       "      <th>4</th>\n",
       "      <td>Honda</td>\n",
       "      <td>Cruze</td>\n",
       "      <td>2013</td>\n",
       "      <td>41146</td>\n",
       "      <td>27168</td>\n",
       "      <td>red</td>\n",
       "      <td>IL</td>\n",
       "      <td>2023-07-15 23:02:01.648439</td>\n",
       "    </tr>\n",
       "  </tbody>\n",
       "</table>\n",
       "</div>"
      ],
      "text/plain": [
       "     make   model  year  mileage  price   color state  \\\n",
       "0  Toyota   Cruze  2017    19882  34176     red    IL   \n",
       "1    Ford   Cruze  2016    95349  26655     red    NY   \n",
       "2  Toyota  Accord  2017    23744  10359  silver    IL   \n",
       "3   Honda  Fusion  2014    55370  23514   white    CA   \n",
       "4   Honda   Cruze  2013    41146  27168     red    IL   \n",
       "\n",
       "                         date  \n",
       "0  2023-08-08 23:02:01.648413  \n",
       "1  2023-12-14 23:02:01.648426  \n",
       "2  2024-01-27 23:02:01.648428  \n",
       "3  2023-11-01 23:02:01.648436  \n",
       "4  2023-07-15 23:02:01.648439  "
      ]
     },
     "execution_count": 3,
     "metadata": {},
     "output_type": "execute_result"
    }
   ],
   "source": [
    "df.head()"
   ]
  },
  {
   "cell_type": "code",
   "execution_count": 4,
   "metadata": {},
   "outputs": [
    {
     "name": "stdout",
     "output_type": "stream",
     "text": [
      "<class 'pandas.core.frame.DataFrame'>\n",
      "RangeIndex: 2000 entries, 0 to 1999\n",
      "Data columns (total 8 columns):\n",
      " #   Column   Non-Null Count  Dtype \n",
      "---  ------   --------------  ----- \n",
      " 0   make     2000 non-null   object\n",
      " 1   model    2000 non-null   object\n",
      " 2   year     2000 non-null   int64 \n",
      " 3   mileage  2000 non-null   int64 \n",
      " 4   price    2000 non-null   int64 \n",
      " 5   color    2000 non-null   object\n",
      " 6   state    2000 non-null   object\n",
      " 7   date     2000 non-null   object\n",
      "dtypes: int64(3), object(5)\n",
      "memory usage: 125.1+ KB\n"
     ]
    }
   ],
   "source": [
    "df.info()"
   ]
  },
  {
   "cell_type": "markdown",
   "metadata": {},
   "source": [
    "#### Data Preprocessing"
   ]
  },
  {
   "cell_type": "code",
   "execution_count": null,
   "metadata": {},
   "outputs": [],
   "source": []
  }
 ],
 "metadata": {
  "kernelspec": {
   "display_name": "base",
   "language": "python",
   "name": "python3"
  },
  "language_info": {
   "codemirror_mode": {
    "name": "ipython",
    "version": 3
   },
   "file_extension": ".py",
   "mimetype": "text/x-python",
   "name": "python",
   "nbconvert_exporter": "python",
   "pygments_lexer": "ipython3",
   "version": "3.12.1"
  }
 },
 "nbformat": 4,
 "nbformat_minor": 2
}
