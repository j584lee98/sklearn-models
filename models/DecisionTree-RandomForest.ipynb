{
 "cells": [
  {
   "cell_type": "markdown",
   "metadata": {},
   "source": [
    "# Decision Tree / Random Forest"
   ]
  },
  {
   "cell_type": "markdown",
   "metadata": {},
   "source": [
    "Binary classification of the risk involved with each loan handed out. Features of the loan includes the month, loan amount, term length, and product type. Features of the client are age, gender, education, presence of children, region, income, family status, phone operator, and whether the loanee is an existing client. For this dataset, the Decision Tree and Random Forest algorithms will be used to predict whether a client is \"good\" or \"bad\" based on the features above."
   ]
  },
  {
   "cell_type": "markdown",
   "metadata": {},
   "source": [
    "### Import Libraries"
   ]
  },
  {
   "cell_type": "code",
   "execution_count": 1,
   "metadata": {},
   "outputs": [],
   "source": [
    "import pandas as pd\n",
    "import seaborn as sns"
   ]
  },
  {
   "cell_type": "markdown",
   "metadata": {},
   "source": [
    "### Import Dataset(s)"
   ]
  },
  {
   "cell_type": "code",
   "execution_count": 2,
   "metadata": {},
   "outputs": [],
   "source": [
    "df = pd.read_csv('../data/client-risk.csv')"
   ]
  },
  {
   "cell_type": "code",
   "execution_count": 3,
   "metadata": {},
   "outputs": [
    {
     "data": {
      "text/html": [
       "<div>\n",
       "<style scoped>\n",
       "    .dataframe tbody tr th:only-of-type {\n",
       "        vertical-align: middle;\n",
       "    }\n",
       "\n",
       "    .dataframe tbody tr th {\n",
       "        vertical-align: top;\n",
       "    }\n",
       "\n",
       "    .dataframe thead th {\n",
       "        text-align: right;\n",
       "    }\n",
       "</style>\n",
       "<table border=\"1\" class=\"dataframe\">\n",
       "  <thead>\n",
       "    <tr style=\"text-align: right;\">\n",
       "      <th></th>\n",
       "      <th>month</th>\n",
       "      <th>credit_amount</th>\n",
       "      <th>credit_term</th>\n",
       "      <th>age</th>\n",
       "      <th>sex</th>\n",
       "      <th>education</th>\n",
       "      <th>product_type</th>\n",
       "      <th>having_children_flg</th>\n",
       "      <th>region</th>\n",
       "      <th>income</th>\n",
       "      <th>family_status</th>\n",
       "      <th>phone_operator</th>\n",
       "      <th>is_client</th>\n",
       "      <th>bad_client_target</th>\n",
       "    </tr>\n",
       "  </thead>\n",
       "  <tbody>\n",
       "    <tr>\n",
       "      <th>0</th>\n",
       "      <td>1</td>\n",
       "      <td>7000</td>\n",
       "      <td>12</td>\n",
       "      <td>39</td>\n",
       "      <td>male</td>\n",
       "      <td>Secondary special education</td>\n",
       "      <td>Cell phones</td>\n",
       "      <td>0</td>\n",
       "      <td>2</td>\n",
       "      <td>21000</td>\n",
       "      <td>Another</td>\n",
       "      <td>0</td>\n",
       "      <td>0</td>\n",
       "      <td>0</td>\n",
       "    </tr>\n",
       "    <tr>\n",
       "      <th>1</th>\n",
       "      <td>1</td>\n",
       "      <td>19000</td>\n",
       "      <td>6</td>\n",
       "      <td>20</td>\n",
       "      <td>male</td>\n",
       "      <td>Secondary special education</td>\n",
       "      <td>Household appliances</td>\n",
       "      <td>1</td>\n",
       "      <td>2</td>\n",
       "      <td>17000</td>\n",
       "      <td>Another</td>\n",
       "      <td>3</td>\n",
       "      <td>1</td>\n",
       "      <td>0</td>\n",
       "    </tr>\n",
       "    <tr>\n",
       "      <th>2</th>\n",
       "      <td>1</td>\n",
       "      <td>29000</td>\n",
       "      <td>12</td>\n",
       "      <td>23</td>\n",
       "      <td>female</td>\n",
       "      <td>Secondary special education</td>\n",
       "      <td>Household appliances</td>\n",
       "      <td>0</td>\n",
       "      <td>2</td>\n",
       "      <td>31000</td>\n",
       "      <td>Another</td>\n",
       "      <td>2</td>\n",
       "      <td>0</td>\n",
       "      <td>0</td>\n",
       "    </tr>\n",
       "    <tr>\n",
       "      <th>3</th>\n",
       "      <td>1</td>\n",
       "      <td>10000</td>\n",
       "      <td>12</td>\n",
       "      <td>30</td>\n",
       "      <td>male</td>\n",
       "      <td>Secondary special education</td>\n",
       "      <td>Cell phones</td>\n",
       "      <td>1</td>\n",
       "      <td>2</td>\n",
       "      <td>31000</td>\n",
       "      <td>Unmarried</td>\n",
       "      <td>3</td>\n",
       "      <td>1</td>\n",
       "      <td>0</td>\n",
       "    </tr>\n",
       "    <tr>\n",
       "      <th>4</th>\n",
       "      <td>1</td>\n",
       "      <td>14500</td>\n",
       "      <td>12</td>\n",
       "      <td>25</td>\n",
       "      <td>female</td>\n",
       "      <td>Higher education</td>\n",
       "      <td>Cell phones</td>\n",
       "      <td>0</td>\n",
       "      <td>2</td>\n",
       "      <td>26000</td>\n",
       "      <td>Married</td>\n",
       "      <td>0</td>\n",
       "      <td>1</td>\n",
       "      <td>0</td>\n",
       "    </tr>\n",
       "  </tbody>\n",
       "</table>\n",
       "</div>"
      ],
      "text/plain": [
       "   month  credit_amount  credit_term  age     sex  \\\n",
       "0      1           7000           12   39    male   \n",
       "1      1          19000            6   20    male   \n",
       "2      1          29000           12   23  female   \n",
       "3      1          10000           12   30    male   \n",
       "4      1          14500           12   25  female   \n",
       "\n",
       "                     education          product_type  having_children_flg  \\\n",
       "0  Secondary special education           Cell phones                    0   \n",
       "1  Secondary special education  Household appliances                    1   \n",
       "2  Secondary special education  Household appliances                    0   \n",
       "3  Secondary special education           Cell phones                    1   \n",
       "4             Higher education           Cell phones                    0   \n",
       "\n",
       "   region  income family_status  phone_operator  is_client  bad_client_target  \n",
       "0       2   21000       Another               0          0                  0  \n",
       "1       2   17000       Another               3          1                  0  \n",
       "2       2   31000       Another               2          0                  0  \n",
       "3       2   31000     Unmarried               3          1                  0  \n",
       "4       2   26000       Married               0          1                  0  "
      ]
     },
     "execution_count": 3,
     "metadata": {},
     "output_type": "execute_result"
    }
   ],
   "source": [
    "df.head()"
   ]
  }
 ],
 "metadata": {
  "kernelspec": {
   "display_name": "sklearn-models",
   "language": "python",
   "name": "python3"
  },
  "language_info": {
   "codemirror_mode": {
    "name": "ipython",
    "version": 3
   },
   "file_extension": ".py",
   "mimetype": "text/x-python",
   "name": "python",
   "nbconvert_exporter": "python",
   "pygments_lexer": "ipython3",
   "version": "3.12.1"
  }
 },
 "nbformat": 4,
 "nbformat_minor": 2
}
